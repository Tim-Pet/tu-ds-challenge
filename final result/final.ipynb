{
  "cells": [
    {
      "cell_type": "code",
      "execution_count": 1,
      "metadata": {},
      "outputs": [],
      "source": [
        "# open questions: \n",
        "# - filter out all data that got added beyond march 2020\n",
        "# - We sparse data with the sqkm transformation and add a variance of about 3%\n",
        "# - The definition of EV can be quite different. In our case we look at battery-powered electric cars as well as plug-in hybrid vehicles.\n",
        "# --------------\n",
        "# Import the Data\n",
        "# --------------\n",
        "import os\n",
        "import pandas as pd\n",
        "import numpy as np\n",
        "import locale\n",
        "from locale import atof\n",
        "import math\n",
        "\n"
      ]
    },
    {
      "cell_type": "code",
      "execution_count": 2,
      "metadata": {},
      "outputs": [],
      "source": [
        "# March 2020\n",
        "population_df = pd.read_csv('data/population_density.csv', sep=',', encoding='latin-1', header=0)\n",
        "\n",
        "# August 2022 \n",
        "charger_df = pd.read_csv('data/charger_locations.csv', sep=';', encoding='ISO-8859-1', header=10, skipinitialspace=True)"
      ]
    },
    {
      "cell_type": "code",
      "execution_count": 3,
      "metadata": {},
      "outputs": [],
      "source": [
        "# remove unnecessary columns\n",
        "charger_df = charger_df[['Breitengrad', 'Längengrad']]\n",
        "\n",
        "# rename columns for readability\n",
        "charger_df = charger_df.rename(columns={'Breitengrad': 'ch_latitude', 'Längengrad': 'ch_longitude'})\n",
        "population_df = population_df.rename(columns={'Lat': 'pop_latitude', 'Lon': 'pop_longitude', 'Population': 'pop_density'})"
      ]
    },
    {
      "cell_type": "code",
      "execution_count": 4,
      "metadata": {},
      "outputs": [],
      "source": [
        "# Fix wrong values\n",
        "def preprocess_lat_long(data, column):\n",
        "\n",
        "  data[column] = data[column].apply(lambda x: x.replace(',','.'))\n",
        "  data[column] = data[column].apply(lambda x: x.replace(',','.'))\n",
        "\n",
        "  return data[column]\n",
        "\n",
        "preprocess_lat_long(charger_df, 'ch_latitude')\n",
        "preprocess_lat_long(charger_df, 'ch_longitude')\n",
        "\n",
        "def preprocess_rstrip(data, column): # remove very last dot in a value in 'Breitengrad' column\n",
        "\n",
        "  data[column] = data[column].apply(lambda x: x.rstrip('.'))\n",
        "\n",
        "preprocess_rstrip(charger_df, 'ch_latitude')"
      ]
    },
    {
      "cell_type": "code",
      "execution_count": 5,
      "metadata": {},
      "outputs": [],
      "source": [
        "# Convert charge location data types to float 64\n",
        "locale.setlocale(locale.LC_NUMERIC, '')\n",
        "charger_df['ch_latitude'] = charger_df['ch_latitude'].apply(atof).astype(np.float64)\n",
        "charger_df['ch_longitude'] = charger_df['ch_longitude'].apply(atof).astype(np.float64)"
      ]
    },
    {
      "cell_type": "code",
      "execution_count": 6,
      "metadata": {},
      "outputs": [
        {
          "name": "stdout",
          "output_type": "stream",
          "text": [
            "ch_latitude     0\n",
            "ch_longitude    0\n",
            "dtype: int64\n",
            "pop_latitude     0\n",
            "pop_longitude    0\n",
            "pop_density      0\n",
            "dtype: int64\n"
          ]
        }
      ],
      "source": [
        "# check for null values\n",
        "print(charger_df.isnull().sum())\n",
        "print(population_df.isnull().sum())"
      ]
    },
    {
      "cell_type": "code",
      "execution_count": 7,
      "metadata": {},
      "outputs": [],
      "source": [
        "# Rough shape of germany (in latitude and longitude)\n",
        "# north: 55.060673\n",
        "# east: 15.041248\n",
        "# south: 47.259456\n",
        "# west: 5.857632\n",
        "# ====\n",
        "# Longitude: 47.259456 - 55.060673\n",
        "# Latitude: 5.857632 - 15.041248\n",
        "# ====\n",
        "# print(\"latitude\", 113, \"sample_num\", round_float(5.857632, 3))\n",
        "# print(\"longitude\", 40075 * (math.cos(math.radians(5.857632)) / 360), \"sample_num\", round_float(47.259456, 3)) # 110.73819622579707\n",
        "# print(\"longitude\", 40075 * (math.cos(math.radians(15.041248 )) / 360), \"sample_num\", round_float(55.259456, 3)) # 107.5055566430472\n",
        "\n",
        "longitude_border_south = 47.259456\n",
        "longitude_border_north = 55.060673\n",
        "latitude_border_west = 5.857632\n",
        "latitude_border_east = 15.041248\n",
        "degree_to_km_latitude = 113 # 1 Degree equals 113 km => having 2 decimal places will enable us to calculate roughly 1 km accuracy\n",
        "degree_to_km_longitude_min = 40075 * (math.cos(math.radians(5.857632)) / 360) # 110.73819622579707 => having 2 decimal places will be roughly 1 km accuracy\n",
        "degree_to_km_longitude_max = 40075 * (math.cos(math.radians(15.041248 )) / 360) # 107.5055566430472 => having 2 decimal places will be roughly 1 km accuracy\n",
        "# Due to the fact that the distance between the latitudes is not the same, we have to calculate the distance between the longitude lines for each latitude line or go with a accuracy variance of about 3%\n",
        "\n",
        "# filter out all charger locations that are not in the area of interest\n",
        "charger_df = charger_df[(charger_df['ch_latitude'] >= longitude_border_south) & (charger_df['ch_latitude'] <= longitude_border_north)]\n",
        "charger_df = charger_df[(charger_df['ch_longitude'] >= latitude_border_west) & (charger_df['ch_longitude'] <= latitude_border_east)]\n",
        "\n",
        "# filter out all population locations that are not in the area of interest\n",
        "population_df = population_df[(population_df['pop_latitude'] >= longitude_border_south) & (population_df['pop_latitude'] <= longitude_border_north)]\n",
        "population_df = population_df[(population_df['pop_longitude'] >= latitude_border_west) & (population_df['pop_longitude'] <= latitude_border_east)]\n"
      ]
    },
    {
      "cell_type": "code",
      "execution_count": 8,
      "metadata": {},
      "outputs": [
        {
          "name": "stdout",
          "output_type": "stream",
          "text": [
            "<class 'pandas.core.frame.DataFrame'>\n",
            "Int64Index: 34720 entries, 0 to 34721\n",
            "Data columns (total 2 columns):\n",
            " #   Column        Non-Null Count  Dtype  \n",
            "---  ------        --------------  -----  \n",
            " 0   ch_latitude   34720 non-null  float64\n",
            " 1   ch_longitude  34720 non-null  float64\n",
            "dtypes: float64(2)\n",
            "memory usage: 813.8 KB\n",
            "None\n",
            "<class 'pandas.core.frame.DataFrame'>\n",
            "Int64Index: 32446528 entries, 0 to 32446527\n",
            "Data columns (total 3 columns):\n",
            " #   Column         Dtype  \n",
            "---  ------         -----  \n",
            " 0   pop_latitude   float64\n",
            " 1   pop_longitude  float64\n",
            " 2   pop_density    float64\n",
            "dtypes: float64(3)\n",
            "memory usage: 990.2 MB\n",
            "None\n"
          ]
        }
      ],
      "source": [
        "print(charger_df.info())\n",
        "print(population_df.info())"
      ]
    },
    {
      "cell_type": "code",
      "execution_count": 9,
      "metadata": {},
      "outputs": [
        {
          "name": "stdout",
          "output_type": "stream",
          "text": [
            "80392210.0085602\n",
            "0.0070825519\n"
          ]
        }
      ],
      "source": [
        "# round all latitude and longitude values to 2 decimal places This will result in roughly 1km²\n",
        "charger_df['ch_latitude'] = charger_df['ch_latitude'].apply(lambda x: round(x, 2))\n",
        "charger_df['ch_longitude'] = charger_df['ch_longitude'].apply(lambda x: round(x, 2))\n",
        "\n",
        "population_df['pop_latitude'] = population_df['pop_latitude'].apply(lambda x: round(x, 2))\n",
        "population_df['pop_longitude'] = population_df['pop_longitude'].apply(lambda x: round(x, 2))\n",
        "\n",
        "# sum up all chargers in a ~1km² area\n",
        "charger_df = charger_df.groupby(['ch_latitude', 'ch_longitude']).size().reset_index(name='ch_count_per_sqkm')\n",
        "\n",
        "# sum up all population in a ~1km² area\n",
        "population_df = population_df.groupby(['pop_latitude', 'pop_longitude'])['pop_density'].sum().reset_index(name='pop_count_per_sqkm')\n",
        "\n",
        "\n",
        "# Amount of EV in 2020 based on https://www.statista.com/statistics/1166543/electric-passenger-cars-number-by-segment-germany/ => 569.382\n",
        "total_EV = 569382\n",
        "\n",
        "# get total recorded population\n",
        "total_population = population_df['pop_count_per_sqkm'].sum() \n",
        "print(total_population)\n",
        "ev_per_person = round(total_EV / total_population, 10) \n",
        "print(ev_per_person)\n",
        "\n",
        "# Add EVs to population_df\n",
        "population_df['ev_count_per_sqkm'] = population_df['pop_count_per_sqkm'].apply(lambda x: round(x * ev_per_person, 10))\n",
        "\n"
      ]
    }
  ],
  "metadata": {
    "kernelspec": {
      "display_name": "Python 3.9.6 64-bit",
      "language": "python",
      "name": "python3"
    },
    "language_info": {
      "codemirror_mode": {
        "name": "ipython",
        "version": 3
      },
      "file_extension": ".py",
      "mimetype": "text/x-python",
      "name": "python",
      "nbconvert_exporter": "python",
      "pygments_lexer": "ipython3",
      "version": "3.9.6"
    },
    "orig_nbformat": 4,
    "vscode": {
      "interpreter": {
        "hash": "31f2aee4e71d21fbe5cf8b01ff0e069b9275f58929596ceb00d14d90e3e16cd6"
      }
    }
  },
  "nbformat": 4,
  "nbformat_minor": 2
}
